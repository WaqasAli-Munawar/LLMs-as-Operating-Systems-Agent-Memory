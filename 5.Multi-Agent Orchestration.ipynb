{
 "cells": [
  {
   "cell_type": "markdown",
   "id": "4f3d0e1e-6ce1-4015-88e0-7e0cc0b8acc0",
   "metadata": {},
   "source": [
    "Letta agents persist information over time and restarts by saving data to a database. These lessons do not require past information. To enable a clean restart, the database is cleared before starting the lesson."
   ]
  },
  {
   "cell_type": "code",
   "execution_count": 1,
   "id": "ab27d6c7-4bc5-4033-8af1-6b67c8e061d0",
   "metadata": {
    "height": 30
   },
   "outputs": [],
   "source": [
    "!rm  -f ~/.letta/sqlite.db"
   ]
  },
  {
   "cell_type": "markdown",
   "id": "c0d49442-0a34-4f6b-9ecb-acd80f2ba80f",
   "metadata": {},
   "source": [
    "## Section 0: Setup a client "
   ]
  },
  {
   "cell_type": "code",
   "execution_count": 2,
   "id": "c5e108e4-bcf9-4be1-b2c0-66539cbe9ec3",
   "metadata": {
    "height": 30
   },
   "outputs": [],
   "source": [
    "from helper import nb_print"
   ]
  },
  {
   "cell_type": "code",
   "execution_count": 3,
   "id": "7a0e6729-0f02-497f-8f85-688ed4f65f68",
   "metadata": {
    "height": 64
   },
   "outputs": [
    {
     "name": "stdout",
     "output_type": "stream",
     "text": [
      "Saved Config:  /home/jovyan/.letta/config\n",
      "📖 Letta configuration file updated!\n",
      "🧠 model\t-> gpt-4\n",
      "🖥️  endpoint\t-> http://jupyter-api-proxy.internal.dlai/rev-proxy/letta\n",
      "Saved Config:  /home/jovyan/.letta/config\n",
      "Saved Config:  /home/jovyan/.letta/config\n"
     ]
    }
   ],
   "source": [
    "from letta import create_client \n",
    "\n",
    "client = create_client()"
   ]
  },
  {
   "cell_type": "code",
   "execution_count": 4,
   "id": "16bbb19b-2fa2-4cac-8803-5cb179c36d47",
   "metadata": {
    "height": 83
   },
   "outputs": [],
   "source": [
    "from letta.schemas.llm_config import LLMConfig\n",
    "\n",
    "client.set_default_llm_config(LLMConfig.default_config(\"gpt-4o-mini\")) "
   ]
  },
  {
   "cell_type": "markdown",
   "id": "acef3345-8dd7-4ddc-8f8e-c6a225c64a34",
   "metadata": {},
   "source": [
    "## Section 1: Shared Memory Block"
   ]
  },
  {
   "cell_type": "code",
   "execution_count": 5,
   "id": "87954850-4566-45e8-b52e-610fe7de8adf",
   "metadata": {
    "height": 151
   },
   "outputs": [],
   "source": [
    "from letta.schemas.block import Block \n",
    "\n",
    "org_description= \"The company is called AgentOS \" \\\n",
    "+ \"and is building AI tools to make it easier to create \" \\\n",
    "+ \"and deploy LLM agents.\"\n",
    "\n",
    "org_block = Block(name=\"company\", value=org_description )"
   ]
  },
  {
   "cell_type": "code",
   "execution_count": 6,
   "id": "914befec-6157-4da0-94e4-beb40897062e",
   "metadata": {
    "height": 151
   },
   "outputs": [],
   "source": [
    "from letta.schemas.memory import BasicBlockMemory\n",
    "\n",
    "class OrgMemory(BasicBlockMemory): \n",
    "\n",
    "    def __init__(self, persona: str, org_block: Block): \n",
    "        persona_block = Block(name=\"persona\", value=persona)\n",
    "        super().__init__(blocks=[persona_block, org_block])"
   ]
  },
  {
   "cell_type": "code",
   "execution_count": 7,
   "id": "83ae6cb1-239e-41fc-969a-8efff752969b",
   "metadata": {
    "height": 83
   },
   "outputs": [],
   "source": [
    "#cleanup. This code will remove agents if the code is run more than once otherwise it will do nothing.\n",
    "for agent in client.list_agents(): \n",
    "    client.delete_agent(agent.id)"
   ]
  },
  {
   "cell_type": "code",
   "execution_count": 8,
   "id": "101c540a-a96f-440e-83b2-6a7478d95f7d",
   "metadata": {
    "height": 49
   },
   "outputs": [],
   "source": [
    "# client.delete_agent(recruiter_agent.id)  #cleanup code for repeated runs if needed"
   ]
  },
  {
   "cell_type": "markdown",
   "id": "86c85a5e-9576-4966-8dc5-19ae8ef09fd5",
   "metadata": {},
   "source": [
    "## Section 2: Orchestrating Multiple Agents "
   ]
  },
  {
   "cell_type": "markdown",
   "id": "f888d64d-e3aa-4a35-90f4-6b5a8c78239e",
   "metadata": {},
   "source": [
    "#### Evaluator Agent"
   ]
  },
  {
   "cell_type": "code",
   "execution_count": 9,
   "id": "de7b9f35-8599-4465-952a-b2db2d7b1533",
   "metadata": {
    "height": 270
   },
   "outputs": [],
   "source": [
    "def read_resume(self, name: str): \n",
    "    \"\"\"\n",
    "    Read the resume data for a candidate given the name\n",
    "\n",
    "    Args: \n",
    "        name (str): Candidate name \n",
    "\n",
    "    Returns: \n",
    "        resume_data (str): Candidate's resume data \n",
    "    \"\"\"\n",
    "    import os\n",
    "    filepath = os.path.join(\"data\", \"resumes\", name.lower().replace(\" \", \"_\") + \".txt\")\n",
    "    #print(\"read\", filepath)\n",
    "    return open(filepath).read()"
   ]
  },
  {
   "cell_type": "code",
   "execution_count": 10,
   "id": "2410745b-73f3-4d4e-a369-8c6fc19cd752",
   "metadata": {
    "height": 576
   },
   "outputs": [],
   "source": [
    "def submit_evaluation(\n",
    "    self, \n",
    "    candidate_name: str, \n",
    "    reach_out: bool, \n",
    "    resume: str, \n",
    "    justification: str\n",
    "): \n",
    "    \"\"\"\n",
    "    Submit a candidate for outreach. \n",
    "\n",
    "    Args: \n",
    "        candidate_name (str): The name of the candidate\n",
    "        reach_out (bool): Whether to reach out to the candidate\n",
    "        resume (str): The text representation of the candidate's resume \n",
    "        justification (str): Justification for reaching out or not\n",
    "    \"\"\"\n",
    "    from letta import create_client \n",
    "    client = create_client()\n",
    "\n",
    "    message = \"Reach out to the following candidate. \" \\\n",
    "    + f\"Name: {candidate_name}\\n\" \\\n",
    "    + f\"Resume Data: {resume}\\n\" \\\n",
    "    + f\"Justification: {justification}\"\n",
    "    print(\"eval agent\", candidate_name)\n",
    "    if reach_out:\n",
    "        response = client.send_message(\n",
    "            agent_name=\"outreach_agent\", \n",
    "            role=\"user\", \n",
    "            message=message\n",
    "        ) \n",
    "    else: \n",
    "        print(f\"Candidate {candidate_name} is rejected: {justification}\")"
   ]
  },
  {
   "cell_type": "code",
   "execution_count": 11,
   "id": "76d419bd-020c-4f6f-81c3-e704d65f5306",
   "metadata": {
    "height": 66
   },
   "outputs": [],
   "source": [
    "read_resume_tool = client.create_tool(read_resume) \n",
    "submit_evaluation_tool = client.create_tool(submit_evaluation)"
   ]
  },
  {
   "cell_type": "code",
   "execution_count": 12,
   "id": "2df27d7b-d2b6-4d87-90c3-6759a70fa8d7",
   "metadata": {
    "height": 304
   },
   "outputs": [],
   "source": [
    "skills = \"Front-end (React, Typescript), software engineering \" \\\n",
    "+ \"(ideally Python), and experience with LLMs.\"\n",
    "eval_persona = f\"You are responsible to finding good recruiting \" \\\n",
    "+ \"candidates, for the company description. \" \\\n",
    "+ f\"Ideal canddiates have skills: {skills}. \" \\\n",
    "+ \"Submit your candidate evaluation with the submit_evaluation tool. \"\n",
    "\n",
    "\n",
    "eval_agent = client.create_agent(\n",
    "    name=\"eval_agent\", \n",
    "    memory=OrgMemory(\n",
    "        persona=eval_persona, \n",
    "        org_block=org_block,\n",
    "    ), \n",
    "    tools=[read_resume_tool.name, submit_evaluation_tool.name]\n",
    ")"
   ]
  },
  {
   "cell_type": "markdown",
   "id": "6e1c675a-13a6-4452-bbde-8bdf73bf3d3b",
   "metadata": {},
   "source": [
    "#### Outreach agent "
   ]
  },
  {
   "cell_type": "code",
   "execution_count": 13,
   "id": "f44ebefc-ba31-4901-acf4-893ffe624fb5",
   "metadata": {
    "height": 219
   },
   "outputs": [],
   "source": [
    "def email_candidate(self, content: str): \n",
    "    \"\"\"\n",
    "    Send an email\n",
    "\n",
    "    Args: \n",
    "        content (str): Content of the email \n",
    "    \"\"\"\n",
    "    print(\"Pretend to email:\", content)\n",
    "    return\n",
    "\n",
    "email_candidate_tool = client.create_tool(email_candidate)"
   ]
  },
  {
   "cell_type": "code",
   "execution_count": 14,
   "id": "cf4d7b41-e563-4785-867a-02bd6127ceea",
   "metadata": {
    "height": 474
   },
   "outputs": [],
   "source": [
    "outreach_persona = \"You are responsible for sending outbound emails \" \\\n",
    "+ \"on behalf of a company with the send_emails tool to \" \\\n",
    "+ \"potential candidates. \" \\\n",
    "+ \"If possible, make sure to personalize the email by appealing \" \\\n",
    "+ \"to the recipient with details about the company. \" \\\n",
    "+ \"You position is `Head Recruiter`, and you go by the name Bob, with contact info bob@gmail.com. \" \\\n",
    "+ \"\"\"\n",
    "Follow this email template: \n",
    "\n",
    "Hi <candidate name>, \n",
    "\n",
    "<content> \n",
    "\n",
    "Best, \n",
    "<your name> \n",
    "<company name> \n",
    "\"\"\"\n",
    "\n",
    "outreach_agent = client.create_agent(\n",
    "    name=\"outreach_agent\", \n",
    "    memory=OrgMemory(\n",
    "        persona=outreach_persona, \n",
    "        org_block=org_block\n",
    "    ), \n",
    "    tools=[email_candidate_tool.name]\n",
    ")"
   ]
  },
  {
   "cell_type": "code",
   "execution_count": 15,
   "id": "2534c3f7-55d9-4f5f-892c-82221ccd1b78",
   "metadata": {
    "height": 98
   },
   "outputs": [
    {
     "name": "stdout",
     "output_type": "stream",
     "text": [
      "eval agent Tony Stark\n",
      "Candidate Tony Stark is rejected: While Tony Stark exhibits strong skills in front-end technologies, particularly in React and TypeScript, there is no evidence of Python or LLM experience in his work history. He might be a high-quality recruiting candidate for a different role, but he doesn't fit the ideal skill set needed for this specific company position.\n"
     ]
    }
   ],
   "source": [
    "response = client.send_message(\n",
    "    agent_name=\"eval_agent\", \n",
    "    role=\"user\", \n",
    "    message=\"Candidate: Tony Stark\"\n",
    ")"
   ]
  },
  {
   "cell_type": "code",
   "execution_count": 16,
   "id": "85ddb91c-5d8c-4f1c-87fd-f8c2b75f7990",
   "metadata": {
    "height": 30
   },
   "outputs": [
    {
     "data": {
      "text/html": [
       "\n",
       "    <style>\n",
       "        .message-container {\n",
       "            font-family: 'Segoe UI', Tahoma, Geneva, Verdana, sans-serif;\n",
       "            max-width: 800px;\n",
       "            margin: 20px auto;\n",
       "            background-color: #1e1e1e;\n",
       "            border-radius: 8px;\n",
       "            overflow: hidden;\n",
       "            color: #d4d4d4;\n",
       "        }\n",
       "        .message {\n",
       "            padding: 10px 15px;\n",
       "            border-bottom: 1px solid #3a3a3a;\n",
       "        }\n",
       "        .message:last-child {\n",
       "            border-bottom: none;\n",
       "        }\n",
       "        .title {\n",
       "            font-weight: bold;\n",
       "            margin-bottom: 5px;\n",
       "            color: #ffffff;\n",
       "            text-transform: uppercase;\n",
       "            font-size: 0.9em;\n",
       "        }\n",
       "        .content {\n",
       "            background-color: #2d2d2d;\n",
       "            border-radius: 4px;\n",
       "            padding: 5px 10px;\n",
       "            font-family: 'Consolas', 'Courier New', monospace;\n",
       "            white-space: pre-wrap;\n",
       "        }\n",
       "        .status-line {\n",
       "            margin-bottom: 5px;\n",
       "            color: #d4d4d4;\n",
       "        }\n",
       "        .function-name { color: #569cd6; }\n",
       "        .json-key { color: #9cdcfe; }\n",
       "        .json-string { color: #ce9178; }\n",
       "        .json-number { color: #b5cea8; }\n",
       "        .json-boolean { color: #569cd6; }\n",
       "        .internal-monologue { font-style: italic; }\n",
       "    </style>\n",
       "    <div class=\"message-container\">\n",
       "    \n",
       "        <div class=\"message\">\n",
       "            <div class=\"title\">INTERNAL MONOLOGUE</div>\n",
       "            <div class=\"content\"><span class=\"internal-monologue\">Requesting Tony Stark&#x27;s resume for evaluation. Relevant skills: Front-end (React, Typescript), software engineering (Python), experience with LLMs.</span></div>\n",
       "        </div>\n",
       "        \n",
       "        <div class=\"message\">\n",
       "            <div class=\"title\">FUNCTION CALL</div>\n",
       "            <div class=\"content\"><span class=\"function-name\">read_resume</span>({<br>&nbsp;&nbsp;<span class=\"json-key\">\"name\"</span>: <span class=\"json-key\">\"Tony Stark\",<br>&nbsp;&nbsp;\"request_heartbeat\"</span>: <span class=\"json-boolean\">true</span><br>})</div>\n",
       "        </div>\n",
       "        \n",
       "        <div class=\"message\">\n",
       "            <div class=\"title\">FUNCTION RETURN</div>\n",
       "            <div class=\"content\">{<br>&nbsp;&nbsp;<span class=\"json-key\">\"status\"</span>: <span class=\"json-key\">\"OK\",<br>&nbsp;&nbsp;\"message\"</span>: <span class=\"json-key\">\"Tony Stark\\nFrontend Engineer - React Specialist\\nBoston, MA | (123) 456-7890 | tony.stark@email.com | LinkedIn: /in/tonystark\\n\\nSummary\\nInnovative Frontend Engineer with a Bachelor’s degree in Computer Science from the Massachusetts Institute of Technology (MIT) and over 6 years of professional experience in building and optimizing user-focused web applications. Adept at using React to create efficient, scalable, and dynamic client-side applications.\\n\\nEducation\\nMassachusetts Institute of Technology (MIT)\\nBachelor of Science in Computer Science\\nGraduated: <span class=\"json-number\">2018</span>\\n\\nGPA: <span class=\"json-number\">4</span>.0\\nDean’s List; Received the MIT Undergraduate Research Opportunities Program (UROP) grant.\\nProfessional Experience\\nSenior Frontend Developer\\nInnovatech Solutions, Boston, MA\\nJune 2020 - Present\\n\\nLead a team of five developers in the design and implementation of a React-based web application for a leading financial services firm, improving user engagement by 40%.\\nImplemented advanced features in React, including Hooks, Context API, and Redux for state management, leading to a 30% reduction in loading times.\\nSpearheaded the migration from AngularJS to React, including updating the architecture and optimizing legacy codebases.\\nFrontend Developer\\nTechGiant Inc, Boston, MA\\nJuly 2018 - May 2020\\n\\nDeveloped new user-facing features using React.js and integrated applications with backend services via RESTful APIs.\\nCollaborated with UX/UI designers to translate designs and wireframes into high-quality code.\\nOptimized components for maximum performance across a vast array of web-capable devices and browsers.\\nConducted comprehensive debugging using React Developer Tools.\\nSkills\\nLanguages: JavaScript (ES6+), HTML5, CSS3, TypeScript\\nFrameworks/Libraries: React, Redux, Next.js, Node.js\\nTools: Webpack, Babel, NPM, Jest, Enzyme\\nOthers: Responsive Design, RESTful Services, Agile Methodologies\\nProjects\\nReal-Time Analytics Dashboard\\nFrontend Developer\\n\\nDeveloped a real-time analytics dashboard using React and Redux, which supported WebSocket for real-time updates.\\nImplemented various D3.js visualizations integrated within the React environment for dynamic data presentation.\\nE-Commerce Platform Revamp\\nSenior Frontend Developer\\n\\nLed the frontend development of a full-scale revamp for a major e-commerce platform, improving the site's performance and user experience.\\nIntegrated Stripe for payment processing and managed state with Redux-Saga.\\nCertifications\\nCertified React Developer - React Training Institute, 2019\\nAgile Certified Practitioner (PMI-ACP) – Project Management Institute, 2020\\nInterests\\nAugmented Reality Development\\nOpen Source Contribution\\nRobotics\\nTony's background and experience are designed to showcase a strong skill set in React development and an impressive academic background from MIT.\\n\",<br>&nbsp;&nbsp;\"time\"</span>: <span class=\"json-string\">\"2024-11-08 07:38:42 AM UTC+0000\"</span><br>}</div>\n",
       "        </div>\n",
       "        \n",
       "        <div class=\"message\">\n",
       "            <div class=\"title\">INTERNAL MONOLOGUE</div>\n",
       "            <div class=\"content\"><span class=\"internal-monologue\">Analyzing resume. Key elements: proficiency in React and TypeScript, experience in front-end development, knowledge of agile methodologies. No clear evidence of Python or LLM experience. Stitching together an assessment.</span></div>\n",
       "        </div>\n",
       "        \n",
       "        <div class=\"message\">\n",
       "            <div class=\"title\">FUNCTION CALL</div>\n",
       "            <div class=\"content\"><span class=\"function-name\">submit_evaluation</span>({<br>&nbsp;&nbsp;<span class=\"json-key\">\"candidate_name\"</span>: <span class=\"json-key\">\"Tony Stark\",<br>&nbsp;&nbsp;\"reach_out\"</span>: <span class=\"json-boolean\">false</span>,<br>&nbsp;&nbsp;<span class=\"json-key\">\"resume\"</span>: <span class=\"json-key\">\"Tony Stark\\nFrontend Engineer - React Specialist\\nBoston, MA | (123) 456-7890 | tony.stark@email.com | LinkedIn: /in/tonystark\\n\\nSummary\\nInnovative Frontend Engineer with a Bachelor’s degree in Computer Science from the Massachusetts Institute of Technology (MIT) and over 6 years of professional experience in building and optimizing user-focused web applications. Adept at using React to create efficient, scalable, and dynamic client-side applications.\\n\\nEducation\\nMassachusetts Institute of Technology (MIT)\\nBachelor of Science in Computer Science\\nGraduated: <span class=\"json-number\">2018</span>\\n\\nGPA: <span class=\"json-number\">4</span>.0\\nDean’s List; Received the MIT Undergraduate Research Opportunities Program (UROP) grant.\\nProfessional Experience\\nSenior Frontend Developer\\nInnovatech Solutions, Boston, MA\\nJune 2020 - Present\\n\\nLead a team of five developers in the design and implementation of a React-based web application for a leading financial services firm, improving user engagement by 40%.\\nImplemented advanced features in React, including Hooks, Context API, and Redux for state management, leading to a 30% reduction in loading times.\\nSpearheaded the migration from AngularJS to React, including updating the architecture and optimizing legacy codebases.\\nFrontend Developer\\nTechGiant Inc, Boston, MA\\nJuly 2018 - May 2020\\n\\nDeveloped new user-facing features using React.js and integrated applications with backend services via RESTful APIs.\\nCollaborated with UX/UI designers to translate designs and wireframes into high-quality code.\\nOptimized components for maximum performance across a vast array of web-capable devices and browsers.\\nConducted comprehensive debugging using React Developer Tools.\\nSkills\\nLanguages: JavaScript (ES6+), HTML5, CSS3, TypeScript\\nFrameworks/Libraries: React, Redux, Next.js, Node.js\\nTools: Webpack, Babel, NPM, Jest, Enzyme\\nOthers: Responsive Design, RESTful Services, Agile Methodologies\\nProjects\\nReal-Time Analytics Dashboard\\nFrontend Developer\\n\\nDeveloped a real-time analytics dashboard using React and Redux, which supported WebSocket for real-time updates.\\nImplemented various D3.js visualizations integrated within the React environment for dynamic data presentation.\\nE-Commerce Platform Revamp\\nSenior Frontend Developer\\n\\nLed the frontend development of a full-scale revamp for a major e-commerce platform, improving the site's performance and user experience.\\nIntegrated Stripe for payment processing and managed state with Redux-Saga.\\nCertifications\\nCertified React Developer - React Training Institute, 2019\\nAgile Certified Practitioner (PMI-ACP) – Project Management Institute, 2020\\nInterests\\nAugmented Reality Development\\nOpen Source Contribution\\nRobotics\\nTony's background and experience are designed to showcase a strong skill set in React development and an impressive academic background from MIT.\\n\",<br>&nbsp;&nbsp;\"justification\"</span>: <span class=\"json-key\">\"While Tony Stark exhibits strong skills in front-end technologies, particularly in React and TypeScript, there is no evidence of Python or LLM experience in his work history. He might be a high-quality recruiting candidate for a different role, but he doesn't fit the ideal skill set needed for this specific company position.\",<br>&nbsp;&nbsp;\"request_heartbeat\"</span>: <span class=\"json-boolean\">true</span><br>})</div>\n",
       "        </div>\n",
       "        \n",
       "        <div class=\"message\">\n",
       "            <div class=\"title\">INTERNAL MONOLOGUE</div>\n",
       "            <div class=\"content\"><span class=\"internal-monologue\">Finalizing report. Candidate Evaluation: Tony Stark - Not suitable for the role due to lack of demonstrated Python and LLM experience. Now preparing to communicate this result. </span></div>\n",
       "        </div>\n",
       "        \n",
       "        <div class=\"message\">\n",
       "            <div class=\"title\">FUNCTION CALL</div>\n",
       "            <div class=\"content\"><span class=\"function-name\">send_message</span>({<br>&nbsp;&nbsp;<span class=\"json-key\">\"message\"</span>: <span class=\"json-string\">\"Candidate Evaluation: Tony Stark. While Mr. Stark has impressive skills in React and TypeScript, he unfortunately does not demonstrate the Python or LLM experience desired for this role. As such, I would not recommend reaching out at this time.\"</span><br>})</div>\n",
       "        </div>\n",
       "        </div>"
      ],
      "text/plain": [
       "<IPython.core.display.HTML object>"
      ]
     },
     "metadata": {},
     "output_type": "display_data"
    }
   ],
   "source": [
    "nb_print(response.messages)"
   ]
  },
  {
   "cell_type": "code",
   "execution_count": 17,
   "id": "7cc0a070-d3e5-4832-90af-99d3544862e2",
   "metadata": {
    "height": 134
   },
   "outputs": [],
   "source": [
    "feedback = \"Our company pivoted to foundation model training\"\n",
    "response = client.send_message(\n",
    "    agent_name=\"eval_agent\", \n",
    "    role=\"user\", \n",
    "    message=feedback\n",
    ")"
   ]
  },
  {
   "cell_type": "code",
   "execution_count": 18,
   "id": "356e2cb1-a89a-4e56-8bed-1aabfd92bb09",
   "metadata": {
    "height": 134
   },
   "outputs": [],
   "source": [
    "feedback = \"The company is also renamed to FoundationAI\"\n",
    "response = client.send_message(\n",
    "    agent_name=\"eval_agent\", \n",
    "    role=\"user\", \n",
    "    message=feedback\n",
    ")"
   ]
  },
  {
   "cell_type": "code",
   "execution_count": 19,
   "id": "a6e64ee5-fc01-436c-839a-73e65fb162c9",
   "metadata": {
    "height": 30
   },
   "outputs": [
    {
     "data": {
      "text/html": [
       "\n",
       "    <style>\n",
       "        .message-container {\n",
       "            font-family: 'Segoe UI', Tahoma, Geneva, Verdana, sans-serif;\n",
       "            max-width: 800px;\n",
       "            margin: 20px auto;\n",
       "            background-color: #1e1e1e;\n",
       "            border-radius: 8px;\n",
       "            overflow: hidden;\n",
       "            color: #d4d4d4;\n",
       "        }\n",
       "        .message {\n",
       "            padding: 10px 15px;\n",
       "            border-bottom: 1px solid #3a3a3a;\n",
       "        }\n",
       "        .message:last-child {\n",
       "            border-bottom: none;\n",
       "        }\n",
       "        .title {\n",
       "            font-weight: bold;\n",
       "            margin-bottom: 5px;\n",
       "            color: #ffffff;\n",
       "            text-transform: uppercase;\n",
       "            font-size: 0.9em;\n",
       "        }\n",
       "        .content {\n",
       "            background-color: #2d2d2d;\n",
       "            border-radius: 4px;\n",
       "            padding: 5px 10px;\n",
       "            font-family: 'Consolas', 'Courier New', monospace;\n",
       "            white-space: pre-wrap;\n",
       "        }\n",
       "        .status-line {\n",
       "            margin-bottom: 5px;\n",
       "            color: #d4d4d4;\n",
       "        }\n",
       "        .function-name { color: #569cd6; }\n",
       "        .json-key { color: #9cdcfe; }\n",
       "        .json-string { color: #ce9178; }\n",
       "        .json-number { color: #b5cea8; }\n",
       "        .json-boolean { color: #569cd6; }\n",
       "        .internal-monologue { font-style: italic; }\n",
       "    </style>\n",
       "    <div class=\"message-container\">\n",
       "    \n",
       "        <div class=\"message\">\n",
       "            <div class=\"title\">INTERNAL MONOLOGUE</div>\n",
       "            <div class=\"content\"><span class=\"internal-monologue\">Acknowledged. The company has been renamed to &#x27;FoundationAI&#x27;. I&#x27;ll update the company information accordingly. It&#x27;s significant to keep current with these pertinent changes.</span></div>\n",
       "        </div>\n",
       "        \n",
       "        <div class=\"message\">\n",
       "            <div class=\"title\">FUNCTION CALL</div>\n",
       "            <div class=\"content\"><span class=\"function-name\">core_memory_replace</span>({<br>&nbsp;&nbsp;<span class=\"json-key\">\"name\"</span>: <span class=\"json-key\">\"company\",<br>&nbsp;&nbsp;\"old_content\"</span>: <span class=\"json-key\">\"The company is called AgentOS\",<br>&nbsp;&nbsp;\"new_content\"</span>: <span class=\"json-key\">\"The company is now called FoundationAI\",<br>&nbsp;&nbsp;\"request_heartbeat\"</span>: <span class=\"json-boolean\">true</span><br>})</div>\n",
       "        </div>\n",
       "        \n",
       "        <div class=\"message\">\n",
       "            <div class=\"title\">INTERNAL MONOLOGUE</div>\n",
       "            <div class=\"content\"><span class=\"internal-monologue\">Company name successfully updated to &#x27;FoundationAI&#x27;. All set to proceed with this new information. Let&#x27;s reaffirm to the user that we are updated and prepared for more candidate evaluations.</span></div>\n",
       "        </div>\n",
       "        \n",
       "        <div class=\"message\">\n",
       "            <div class=\"title\">FUNCTION CALL</div>\n",
       "            <div class=\"content\"><span class=\"function-name\">send_message</span>({<br>&nbsp;&nbsp;<span class=\"json-key\">\"message\"</span>: <span class=\"json-string\">\"Noted, the company is now updated to 'FoundationAI'. Please provide the name of the next candidate.\"</span><br>})</div>\n",
       "        </div>\n",
       "        </div>"
      ],
      "text/plain": [
       "<IPython.core.display.HTML object>"
      ]
     },
     "metadata": {},
     "output_type": "display_data"
    }
   ],
   "source": [
    "nb_print(response.messages)"
   ]
  },
  {
   "cell_type": "code",
   "execution_count": 20,
   "id": "228ba181-b0bf-4f04-bf94-1e520caeafc3",
   "metadata": {
    "height": 98
   },
   "outputs": [
    {
     "name": "stdout",
     "output_type": "stream",
     "text": [
      "eval agent Spongebob Squarepants\n",
      "Pretend to email: Hi Spongebob Squarepants, \n",
      "\n",
      "I was thoroughly impressed by your resume, particularly your extensive experience in AI research and your dedication to applying these technologies in diverse and meaningful ways. Here at FoundationAI, we are also passionate about creating impactful AI solutions. We have recently pivoted to focus on foundation model training, which I believe aligns with your expertise and interests. I would love the opportunity to discuss possible synergies and how your role could evolve with us. \n",
      "\n",
      "Best, \n",
      "Bob \n",
      "FoundationAI\n"
     ]
    }
   ],
   "source": [
    "response = client.send_message(\n",
    "    agent_name=\"eval_agent\", \n",
    "    role=\"system\", \n",
    "    message=\"Candidate: Spongebob Squarepants\"\n",
    ")"
   ]
  },
  {
   "cell_type": "code",
   "execution_count": 21,
   "id": "bdcc39c5-311d-446e-9562-fa88eb2a10d1",
   "metadata": {
    "height": 49
   },
   "outputs": [
    {
     "data": {
      "text/plain": [
       "Block(value='The company is now called FoundationAI and is building AI tools to make it easier to create and deploy LLM agents.\\n The company has recently pivoted to focusing on foundation model training.', limit=2000, name='company', template=False, label='company', description=None, metadata_={}, user_id=None, id='block-49250b1c-af79-4760-b842-cef9340778db')"
      ]
     },
     "execution_count": 21,
     "metadata": {},
     "output_type": "execute_result"
    }
   ],
   "source": [
    "client.get_core_memory(outreach_agent.id).get_block(\"company\")"
   ]
  },
  {
   "cell_type": "markdown",
   "id": "09a2fffc-0dbd-44f4-b90c-b9e5c7d4cddf",
   "metadata": {},
   "source": [
    "## Section 3: Adding an orchestrator agent "
   ]
  },
  {
   "cell_type": "code",
   "execution_count": 22,
   "id": "f3219788-1cdc-4a85-af9f-b08005fabd28",
   "metadata": {
    "height": 389
   },
   "outputs": [],
   "source": [
    "#re-create agents \n",
    "client.delete_agent(eval_agent.id)\n",
    "client.delete_agent(outreach_agent.id)\n",
    "\n",
    "eval_agent = client.create_agent(\n",
    "    name=\"eval_agent\", \n",
    "    memory=OrgMemory(\n",
    "        persona=eval_persona, \n",
    "        org_block=org_block,\n",
    "    ), \n",
    "    tools=[read_resume_tool.name, submit_evaluation_tool.name]\n",
    ")\n",
    "\n",
    "outreach_agent = client.create_agent(\n",
    "    name=\"outreach_agent\", \n",
    "    memory=OrgMemory(\n",
    "        persona=outreach_persona, \n",
    "        org_block=org_block\n",
    "    ), \n",
    "    tools=[email_candidate_tool.name]\n",
    ")"
   ]
  },
  {
   "cell_type": "code",
   "execution_count": 23,
   "id": "4e1dd11c-31a6-4d8e-b713-c6bab84ddea1",
   "metadata": {
    "height": 30
   },
   "outputs": [
    {
     "data": {
      "text/plain": [
       "Block(value='The company is now called FoundationAI and is building AI tools to make it easier to create and deploy LLM agents.\\n The company has recently pivoted to focusing on foundation model training.', limit=2000, name='company', template=False, label='company', description=None, metadata_={}, user_id='user-e082becc-ce3e-4b5d-a537-960951a08c75', id='block-49250b1c-af79-4760-b842-cef9340778db')"
      ]
     },
     "execution_count": 23,
     "metadata": {},
     "output_type": "execute_result"
    }
   ],
   "source": [
    "client.get_block(org_block.id)"
   ]
  },
  {
   "cell_type": "code",
   "execution_count": 24,
   "id": "abce960f-aaad-459c-82fc-c0c0e50543c1",
   "metadata": {
    "height": 695
   },
   "outputs": [],
   "source": [
    "from typing import Optional\n",
    "\n",
    "def search_candidates_db(self, page: int) -> Optional[str]: \n",
    "    \"\"\"\n",
    "    Returns 1 candidates per page. \n",
    "    Must start at page 0.\n",
    "    Page 0 returns the first 1 candidate, \n",
    "    Page 1 returns the next 1, etc.\n",
    "    Returns `None` if no candidates remain. \n",
    "\n",
    "    Args: \n",
    "        page (int): The page number to return candidates from \n",
    "\n",
    "    Returns: \n",
    "        candidate_names (List[str]): Names of the candidates\n",
    "    \"\"\"\n",
    "    \n",
    "    names = [\"Tony Stark\", \"Spongebob Squarepants\", \"Gautam Fang\"]\n",
    "    if page >= len(names): \n",
    "        return None\n",
    "    return names[page]\n",
    "\n",
    "def consider_candidate(self, name: str): \n",
    "    \"\"\"\n",
    "    Submit a candidate for consideration. \n",
    "\n",
    "    Args: \n",
    "        name (str): Candidate name to consider \n",
    "    \"\"\"\n",
    "    from letta import create_client \n",
    "    client = create_client()\n",
    "    message = f\"Consider candidate {name}\" \n",
    "    print(\"Sending message to eval agent: \", message)\n",
    "    response = client.send_message(\n",
    "        agent_name=\"eval_agent\", \n",
    "        role=\"user\", \n",
    "        message=message\n",
    "    ) \n"
   ]
  },
  {
   "cell_type": "code",
   "execution_count": 25,
   "id": "93f066b8-77dc-4fcf-8c2c-f280338d8e75",
   "metadata": {
    "height": 389
   },
   "outputs": [],
   "source": [
    "search_candidate_tool = client.create_tool(search_candidates_db)\n",
    "consider_candidate_tool = client.create_tool(consider_candidate)\n",
    "\n",
    "# create recruiter agent\n",
    "recruiter_agent = client.create_agent(\n",
    "    name=\"recruiter_agent\", \n",
    "    memory=OrgMemory(\n",
    "        persona=\"You run a recruiting process for a company. \" \\\n",
    "        + \"Your job is to continue to pull candidates from the \" \n",
    "        + \"`search_candidates_db` tool until there are no more \" \\\n",
    "        + \"candidates left. \" \\\n",
    "        + \"For each candidate, consider the candidate by calling \"\n",
    "        + \"the `consider_candidate` tool. \" \\\n",
    "        + \"You should continue to call `search_candidates_db` \" \\\n",
    "        + \"followed by `consider_candidate` until there are no more \" \\\n",
    "        \" candidates. Start at page 0. \",\n",
    "        org_block=org_block\n",
    "    ), \n",
    "    tools=[search_candidate_tool.name, consider_candidate_tool.name]\n",
    ")\n",
    "   "
   ]
  },
  {
   "cell_type": "code",
   "execution_count": null,
   "id": "e9d7ebbe-12f3-4949-bc89-0dc1e3b85c42",
   "metadata": {
    "height": 98
   },
   "outputs": [
    {
     "name": "stdout",
     "output_type": "stream",
     "text": [
      "Sending message to eval agent:  Consider candidate Tony Stark\n",
      "eval agent Tony Stark\n",
      "Candidate Tony Stark is rejected: Tony has extensive experience with React, but we also need a candidate with Python skills and experience with LLMs. Tony's resume does not reflect these qualifications.\n",
      "Sending message to eval agent:  Consider candidate Spongebob Squarepants\n",
      "eval agent Spongebob Squarepants\n",
      "Candidate Spongebob Squarepants is rejected: While Spongebob Squarepants certainly has formidable abilities in the AI research space, and Python skills, he does not demonstrate the necessary experience in front-end development such as React or TypeScript. Thus, he might not be a perfect fit.\n",
      "Sending message to eval agent:  Consider candidate Gautam Fang\n",
      "eval agent Gautam Fang\n",
      "Candidate Gautam Fang is rejected: Gautam Fang has a remarkable skill set covering gardening and Java programming but doesn't match our requirement for Front-end development skills (React, TypeScript), Python, and LLMs experience.\n"
     ]
    }
   ],
   "source": [
    "response = client.send_message(\n",
    "    agent_id=recruiter_agent.id, \n",
    "    role=\"system\", \n",
    "    message=\"Run generation\"\n",
    ")"
   ]
  },
  {
   "cell_type": "code",
   "execution_count": null,
   "id": "28bd187b-410c-4f31-b01a-2e8b0b57f43b",
   "metadata": {
    "height": 30
   },
   "outputs": [],
   "source": [
    "nb_print(response.messages)"
   ]
  },
  {
   "cell_type": "code",
   "execution_count": null,
   "id": "2acaa30d-7e3a-4e43-b96d-ea2cfc515ccf",
   "metadata": {
    "height": 30
   },
   "outputs": [],
   "source": []
  }
 ],
 "metadata": {
  "kernelspec": {
   "display_name": "Python 3 (ipykernel)",
   "language": "python",
   "name": "python3"
  },
  "language_info": {
   "codemirror_mode": {
    "name": "ipython",
    "version": 3
   },
   "file_extension": ".py",
   "mimetype": "text/x-python",
   "name": "python",
   "nbconvert_exporter": "python",
   "pygments_lexer": "ipython3",
   "version": "3.11.5"
  }
 },
 "nbformat": 4,
 "nbformat_minor": 5
}
