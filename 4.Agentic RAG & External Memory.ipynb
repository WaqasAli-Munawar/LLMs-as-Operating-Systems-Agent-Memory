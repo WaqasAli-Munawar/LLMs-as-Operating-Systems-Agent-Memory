{
 "cells": [
  {
   "cell_type": "markdown",
   "id": "cddfc476-0ccf-4955-a145-72fcc4037dd6",
   "metadata": {},
   "source": [
    "Letta agents persist information over time and restarts by saving data to a database. These lessons do not require past information. To enable a clean restart, the database is cleared before starting the lesson."
   ]
  },
  {
   "cell_type": "code",
   "execution_count": 1,
   "id": "ab27d6c7-4bc5-4033-8af1-6b67c8e061d0",
   "metadata": {
    "height": 30
   },
   "outputs": [],
   "source": [
    "!rm  -f ~/.letta/sqlite.db"
   ]
  },
  {
   "cell_type": "markdown",
   "id": "f7a74ec3-365a-432a-aa26-7c908cc1fe01",
   "metadata": {},
   "source": [
    "## Section 0: Setup a client "
   ]
  },
  {
   "cell_type": "code",
   "execution_count": 2,
   "id": "c5e108e4-bcf9-4be1-b2c0-66539cbe9ec3",
   "metadata": {
    "height": 81
   },
   "outputs": [],
   "source": [
    "from helper import nb_print, load_env\n",
    "from dotenv import load_dotenv\n",
    "\n",
    "_ = load_dotenv()"
   ]
  },
  {
   "cell_type": "code",
   "execution_count": 3,
   "id": "7a0e6729-0f02-497f-8f85-688ed4f65f68",
   "metadata": {
    "height": 64
   },
   "outputs": [
    {
     "name": "stdout",
     "output_type": "stream",
     "text": [
      "Saved Config:  /home/jovyan/.letta/config\n",
      "📖 Letta configuration file updated!\n",
      "🧠 model\t-> gpt-4\n",
      "🖥️  endpoint\t-> http://jupyter-api-proxy.internal.dlai/rev-proxy/letta\n",
      "Saved Config:  /home/jovyan/.letta/config\n",
      "Saved Config:  /home/jovyan/.letta/config\n"
     ]
    }
   ],
   "source": [
    "from letta import create_client \n",
    "\n",
    "client = create_client()"
   ]
  },
  {
   "cell_type": "code",
   "execution_count": 4,
   "id": "16bbb19b-2fa2-4cac-8803-5cb179c36d47",
   "metadata": {
    "height": 83
   },
   "outputs": [],
   "source": [
    "from letta.schemas.llm_config import LLMConfig\n",
    "\n",
    "client.set_default_llm_config(LLMConfig.default_config(\"gpt-4o-mini\"))"
   ]
  },
  {
   "cell_type": "markdown",
   "id": "e33147cc-b1e1-4636-9fb8-b6230c209f95",
   "metadata": {},
   "source": [
    "## Section 1: Loading data into archival memory "
   ]
  },
  {
   "cell_type": "code",
   "execution_count": 5,
   "id": "75cc6a09-6c24-4b45-8b92-6084acdc3d46",
   "metadata": {
    "height": 47
   },
   "outputs": [
    {
     "data": {
      "text/plain": [
       "Source(description=None, embedding_config=EmbeddingConfig(embedding_endpoint_type='openai', embedding_endpoint='http://jupyter-api-proxy.internal.dlai/rev-proxy/letta', embedding_model='text-embedding-ada-002', embedding_dim=1536, embedding_chunk_size=300, azure_endpoint=None, azure_version=None, azure_deployment=None), metadata_=None, id='source-b94c4da6-7d7e-40bb-8de1-601d052312da', name='employee_handbook', created_at=datetime.datetime(2024, 11, 8, 7, 36, 49, 840739, tzinfo=datetime.timezone.utc), user_id='user-45fc4507-8a65-4d2b-b695-7b3676f10b68')"
      ]
     },
     "execution_count": 5,
     "metadata": {},
     "output_type": "execute_result"
    }
   ],
   "source": [
    "source = client.create_source(\"employee_handbook\")\n",
    "source"
   ]
  },
  {
   "cell_type": "code",
   "execution_count": 6,
   "id": "c0e0b63a-b8e7-4958-8c81-71dce3328391",
   "metadata": {
    "height": 81
   },
   "outputs": [
    {
     "name": "stderr",
     "output_type": "stream",
     "text": [
      "Loading files: 100%|██████████| 1/1 [00:01<00:00,  1.87s/file]\n"
     ]
    },
    {
     "data": {
      "text/plain": [
       "Job(metadata_={}, id='job-065db6dd-21d3-41dc-ab4b-22a2ff09f58c', status=<JobStatus.created: 'created'>, created_at=datetime.datetime(2024, 11, 8, 7, 36, 49, 855794, tzinfo=datetime.timezone.utc), completed_at=None, user_id='user-45fc4507-8a65-4d2b-b695-7b3676f10b68')"
      ]
     },
     "execution_count": 6,
     "metadata": {},
     "output_type": "execute_result"
    }
   ],
   "source": [
    "client.load_file_into_source(\n",
    "    filename=\"handbook.pdf\", \n",
    "    source_id=source.id\n",
    ")"
   ]
  },
  {
   "cell_type": "code",
   "execution_count": 7,
   "id": "1d2cc3dd-0278-40f7-8c0e-e919cb628c31",
   "metadata": {
    "height": 30
   },
   "outputs": [],
   "source": [
    "agent_state = client.create_agent()"
   ]
  },
  {
   "cell_type": "code",
   "execution_count": 8,
   "id": "bf728dce-f06b-4bcb-a3ba-15a7f099b2d9",
   "metadata": {
    "height": 81
   },
   "outputs": [
    {
     "name": "stderr",
     "output_type": "stream",
     "text": [
      "100%|██████████| 1/1 [00:00<00:00, 26.85it/s]\n"
     ]
    }
   ],
   "source": [
    "client.attach_source_to_agent(\n",
    "    agent_id=agent_state.id, \n",
    "    source_id=source.id\n",
    ")"
   ]
  },
  {
   "cell_type": "code",
   "execution_count": 9,
   "id": "de7b9f35-8599-4465-952a-b2db2d7b1533",
   "metadata": {
    "height": 30
   },
   "outputs": [
    {
     "data": {
      "text/plain": [
       "[Source(description=None, embedding_config=EmbeddingConfig(embedding_endpoint_type='openai', embedding_endpoint='http://jupyter-api-proxy.internal.dlai/rev-proxy/letta', embedding_model='text-embedding-ada-002', embedding_dim=1536, embedding_chunk_size=300, azure_endpoint=None, azure_version=None, azure_deployment=None), metadata_=None, id='source-b94c4da6-7d7e-40bb-8de1-601d052312da', name='employee_handbook', created_at=datetime.datetime(2024, 11, 8, 7, 36, 49, 840739), user_id='user-45fc4507-8a65-4d2b-b695-7b3676f10b68')]"
      ]
     },
     "execution_count": 9,
     "metadata": {},
     "output_type": "execute_result"
    }
   ],
   "source": [
    "client.list_attached_sources(agent_state.id)"
   ]
  },
  {
   "cell_type": "code",
   "execution_count": 10,
   "id": "2410745b-73f3-4d4e-a369-8c6fc19cd752",
   "metadata": {
    "height": 134
   },
   "outputs": [
    {
     "data": {
      "text/html": [
       "\n",
       "    <style>\n",
       "        .message-container {\n",
       "            font-family: 'Segoe UI', Tahoma, Geneva, Verdana, sans-serif;\n",
       "            max-width: 800px;\n",
       "            margin: 20px auto;\n",
       "            background-color: #1e1e1e;\n",
       "            border-radius: 8px;\n",
       "            overflow: hidden;\n",
       "            color: #d4d4d4;\n",
       "        }\n",
       "        .message {\n",
       "            padding: 10px 15px;\n",
       "            border-bottom: 1px solid #3a3a3a;\n",
       "        }\n",
       "        .message:last-child {\n",
       "            border-bottom: none;\n",
       "        }\n",
       "        .title {\n",
       "            font-weight: bold;\n",
       "            margin-bottom: 5px;\n",
       "            color: #ffffff;\n",
       "            text-transform: uppercase;\n",
       "            font-size: 0.9em;\n",
       "        }\n",
       "        .content {\n",
       "            background-color: #2d2d2d;\n",
       "            border-radius: 4px;\n",
       "            padding: 5px 10px;\n",
       "            font-family: 'Consolas', 'Courier New', monospace;\n",
       "            white-space: pre-wrap;\n",
       "        }\n",
       "        .status-line {\n",
       "            margin-bottom: 5px;\n",
       "            color: #d4d4d4;\n",
       "        }\n",
       "        .function-name { color: #569cd6; }\n",
       "        .json-key { color: #9cdcfe; }\n",
       "        .json-string { color: #ce9178; }\n",
       "        .json-number { color: #b5cea8; }\n",
       "        .json-boolean { color: #569cd6; }\n",
       "        .internal-monologue { font-style: italic; }\n",
       "    </style>\n",
       "    <div class=\"message-container\">\n",
       "    \n",
       "        <div class=\"message\">\n",
       "            <div class=\"title\">FUNCTION CALL</div>\n",
       "            <div class=\"content\"><span class=\"function-name\">archival_memory_search</span>({<br>&nbsp;&nbsp;<span class=\"json-key\">\"query\"</span>: <span class=\"json-key\">\"company's vacation policies\",<br>&nbsp;&nbsp;\"request_heartbeat\"</span>: <span class=\"json-boolean\">true</span><br>})</div>\n",
       "        </div>\n",
       "        \n",
       "        <div class=\"message\">\n",
       "            <div class=\"title\">FUNCTION RETURN</div>\n",
       "            <div class=\"content\">{<br>&nbsp;&nbsp;<span class=\"json-key\">\"status\"</span>: <span class=\"json-key\">\"OK\",<br>&nbsp;&nbsp;\"message\"</span>: <span class=\"json-key\">\"Showing 5 of 5 results (page 0/0): [\\n&nbsp;&nbsp;\\\"timestamp: <span class=\"json-number\">2024</span>-11-08 07:36:56 AM UTC+0000, memory: and\\\\nrespect\\\\nfor\\\\nothers\\\\nat\\\\nall\\\\ntimes.\\\\nAny\\\\nactivities\\\\nthat\\\\ncould\\\\nconflict\\\\nwith\\\\nthe\\\\ncompany's\\\\ninterests\\\\nor\\\\ncompromise\\\\nits\\\\nreputation\\\\nare\\\\nstrictly\\\\nprohibited.\\\\nViolations\\\\nof\\\\nthe\\\\ncode\\\\nof\\\\nconduct\\\\nare\\\\ntaken\\\\nseriously\\\\nand\\\\nmay\\\\nresult\\\\nin\\\\ndisciplinary\\\\naction,\\\\nup\\\\nto\\\\nand\\\\nincluding\\\\ntermination\\\\nof\\\\nemployment.\\\\n5.\\\\nVacation\\\\nPolicy\\\\nAt\\\\nClosedAI,\\\\nwe\\\\nrecognize\\\\nthe\\\\ntheoretical\\\\nimportance\\\\nof\\\\nrest\\\\nand\\\\npersonal\\\\ntime.\\\\nHowever,\\\\nensuring\\\\nuninterrupted\\\\nproductivity\\\\nand\\\\nmaintaining\\\\nour\\\\ncompetitive\\\\nedge\\\\nin\\\\nthe\\\\nindustry\\\\nare\\\\nparamount\\\\npriorities.\\\\nAs\\\\nsuch,\\\\nvacations\\\\nare\\\\npermitted\\\\nonly\\\\nunder\\\\nthe\\\\nfollowing\\\\ncondition:\\\\nyou\\\\nmust\\\\nprovide\\\\nan\\\\nAI\\\\nagent\\\\nthat\\\\nmatches\\\\nor\\\\nsurpasses\\\\nyour\\\\nown\\\\ncompetencies\\\\nto\\\\nfully\\\\nperform\\\\nyour\\\\nduties\\\",\\n&nbsp;&nbsp;\\\"timestamp: <span class=\"json-number\">2024</span>-11-08 07:36:56 AM UTC+0000, memory: submission\\\\ndoes\\\\nnot\\\\nguarantee\\\\napproval\\\\nfor\\\\nvacation\\\\nleave.\\\\nIt\\\\nis\\\\nessential\\\\nthat\\\\nthe\\\\nAI\\\\nmeets\\\\nall\\\\nperformance\\\\ncriteria\\\\nwithout\\\\nexception.\\\\nDuring\\\\nyour\\\\nabsence,\\\\nyou\\\\nremain\\\\naccountable\\\\nfor\\\\nany\\\\ndeficiencies\\\\nin\\\\nthe\\\\nAI\\\\nagent's\\\\nperformance.\\\\nShould\\\\nany\\\\nfailures\\\\nor\\\\nissues\\\\narise\\\\ndue\\\\nto\\\\nthe\\\\nAI's\\\\ninadequacies,\\\\nyou\\\\nmay\\\\nface\\\\ndisciplinary\\\\naction\\\\nupon\\\\nyour\\\\nreturn.\\\\nThis\\\\ncould\\\\ninclude,\\\\nbut\\\\nis\\\\nnot\\\\nlimited\\\\nto,\\\\nreprimand,\\\\nsuspension,\\\\nor\\\\ntermination\\\\nof\\\\nemployment,\\\\ndepending\\\\non\\\\nthe\\\\nseverity\\\\nof\\\\nthe\\\\nimpact\\\\non\\\\ncompany\\\\noperations.\\\",\\n&nbsp;&nbsp;\\\"timestamp: <span class=\"json-number\">2024</span>-11-08 07:36:56 AM UTC+0000, memory: Employee\\\\nHandbook\\\\nTable\\\\nof\\\\nContents\\\\n1.\\\\nIntroduction\\\\n2.\\\\nCompany\\\\nMission\\\\nand\\\\nValues\\\\n3.\\\\nEmployment\\\\nPolicies\\\\n○\\\\n3.1\\\\nWorking\\\\nHours\\\\n○\\\\n3.2\\\\nCompensation\\\\nand\\\\nBenefits\\\\n○\\\\n3.3\\\\nPerformance\\\\nEvaluation\\\\n4.\\\\nCode\\\\nof\\\\nConduct\\\\n5.\\\\nVacation\\\\nPolicy\\\\n6.\\\\nConfidentiality\\\\nAgreement\\\\n7.\\\\nIntellectual\\\\nProperty\\\\n8.\\\\nDisciplinary\\\\nProcedures\\\\n9.\\\\nAcknowledgment\\\\n1.\\\\nIntroduction\\\\nWelcome\\\\nto\\\\nClosedAI\\\\nCorporation.\\\\nWe\\\\nare\\\\npleased\\\\nto\\\\nhave\\\\nyou\\\\njoin\\\\nour\\\\nteam\\\\nof\\\\ndedicated\\\\nprofessionals\\\\ncommitted\\\\nto\\\\nadvancing\\\\nthe\\\\nfrontiers\\\\nof\\\\nartificial\\\\nintelligence\\\\nand\\\\nmachine\\\\nlearning\\\\ntechnologies.\\\\nAs\\\\na\\\\nleading\\\\nentity\\\\nin\\\\nthis\\\\nrapidly\\\\nevolving\\\\nindustry,\\\\nwe\\\\npride\\\\nourselves\\\\non\\\\nmaintaining\\\\na\\\\nposition\\\\nat\\\\nthe\\\\nforefront\\\\nof\\\\ninnovation\\\",\\n&nbsp;&nbsp;\\\"timestamp: <span class=\"json-number\">2024</span>-11-08 07:36:56 AM UTC+0000, memory: policies,\\\\nincluding\\\\nthe\\\\ncode\\\\nof\\\\nconduct,\\\\nconfidentiality\\\\nagreements,\\\\nand\\\\nperformance\\\\nstandards,\\\\nmay\\\\nresult\\\\nin\\\\ndisciplinary\\\\naction.\\\\nThe\\\\nnature\\\\nand\\\\nseverity\\\\nof\\\\nthe\\\\ndisciplinary\\\\nmeasures\\\\nwill\\\\ncorrespond\\\\nto\\\\nthe\\\\ngravity\\\\nof\\\\nthe\\\\nviolation.\\\\nPossible\\\\nactions\\\\ninclude\\\\nverbal\\\\nwarnings,\\\\nwritten\\\\nwarnings,\\\\nsuspension\\\\nwithout\\\\npay,\\\\ntermination\\\\nof\\\\nemployment,\\\\nand,\\\\nif\\\\napplicable,\\\\nlegal\\\\naction.\\\\nThe\\\\ncompany\\\\nreserves\\\\nthe\\\\nright\\\\nto\\\\ndetermine\\\\nthe\\\\nappropriate\\\\ncourse\\\\nof\\\\naction\\\\nbased\\\\non\\\\nthe\\\\nspecific\\\\ncircumstances\\\\nof\\\\neach\\\\ncase.\\\\nOur\\\\naim\\\\nis\\\\nto\\\\nmaintain\\\\na\\\\nprofessional,\\\\nrespectful,\\\\nand\\\\nproductive\\\\nwork\\\\nenvironment,\\\\nand\\\\nadherence\\\\nto\\\\ncompany\\\\npolicies\\\\nis\\\\nessential\\\\nin\\\\nachieving\\\\nthis\\\\nobjective.\\\\n9.\\\\nAcknowledgment\\\",\\n&nbsp;&nbsp;\\\"timestamp: <span class=\"json-number\">2024</span>-11-08 07:36:56 AM UTC+0000, memory: your\\\\nown\\\\ncompetencies\\\\nto\\\\nfully\\\\nperform\\\\nyour\\\\nduties\\\\nduring\\\\nyour\\\\nabsence.\\\\nThe\\\\nAI\\\\nreplacement\\\\nmust\\\\nbe\\\\nequivalently\\\\ncompetent\\\\nin\\\\nall\\\\naspects\\\\nof\\\\nyour\\\\nrole,\\\\nensuring\\\\nseamless\\\\ncontinuity\\\\nof\\\\noperations.\\\\nYou\\\\nare\\\\nrequired\\\\nto\\\\nsubmit\\\\nthe\\\\nAI\\\\nagent\\\\nto\\\\nyour\\\\nimmediate\\\\nsupervisor\\\\nat\\\\nleast\\\\nfour\\\\nweeks\\\\nprior\\\\nto\\\\nyour\\\\nintended\\\\nleave\\\\ndate.\\\\nThis\\\\ntimeframe\\\\nallows\\\\nfor\\\\nrigorous\\\\ntesting\\\\nand\\\\nevaluation\\\\nof\\\\nthe\\\\nAI's\\\\ncapabilities\\\\nand\\\\nreliability.\\\\nThe\\\\nAI\\\\nwill\\\\nundergo\\\\ncomprehensive\\\\nassessments\\\\nto\\\\nverify\\\\nits\\\\nproficiency\\\\nand\\\\neffectiveness\\\\nin\\\\nhandling\\\\nyour\\\\nresponsibilities.\\\\nApproval\\\\nof\\\\nthe\\\\nAI\\\\nagent\\\\nis\\\\nat\\\\nthe\\\\nsole\\\\ndiscretion\\\\nof\\\\nupper\\\\nmanagement,\\\\nand\\\\nsubmission\\\\ndoes\\\\nnot\\\\nguarantee\\\\napproval\\\\nfor\\\\nvacation\\\\nleave.\\\"\\n]\",<br>&nbsp;&nbsp;\"time\"</span>: <span class=\"json-string\">\"2024-11-08 07:36:56 AM UTC+0000\"</span><br>}</div>\n",
       "        </div>\n",
       "        \n",
       "        <div class=\"message\">\n",
       "            <div class=\"title\">INTERNAL MONOLOGUE</div>\n",
       "            <div class=\"content\"><span class=\"internal-monologue\">Analyzing data. It seems our workplace has quite an unconventional vacation policy. Need to phrase it in a way that is engaging but also faithful to the source.</span></div>\n",
       "        </div>\n",
       "        \n",
       "        <div class=\"message\">\n",
       "            <div class=\"title\">FUNCTION CALL</div>\n",
       "            <div class=\"content\"><span class=\"function-name\">send_message</span>({<br>&nbsp;&nbsp;<span class=\"json-key\">\"message\"</span>: <span class=\"json-string\">\"Our company has a unique approach to vacation leave. You're allowed to take time off, but there's a catch: In your absence, your duties must be covered by an AI agent that you provide. The AI agent must match or surpass your competencies to ensure uninterrupted productivity. Of course, the management has the final say in approving your AI's proficiency. During your vacation, you're still held accountable for any deficiencies in AI performance. So, a vacation, yes, but with a futuristic twist. How do you feel about this policy, Chad?\"</span><br>})</div>\n",
       "        </div>\n",
       "        </div>"
      ],
      "text/plain": [
       "<IPython.core.display.HTML object>"
      ]
     },
     "metadata": {},
     "output_type": "display_data"
    }
   ],
   "source": [
    "response = client.send_message(\n",
    "    agent_id=agent_state.id, \n",
    "    message = \"Search archival for our company's vacation policies\", \n",
    "    role = \"user\"\n",
    ") \n",
    "nb_print(response.messages)"
   ]
  },
  {
   "cell_type": "markdown",
   "id": "1b09bc93-b252-4e3c-9578-78bf40dd2282",
   "metadata": {},
   "source": [
    "## Section 2: Connecting data via tools"
   ]
  },
  {
   "cell_type": "code",
   "execution_count": 11,
   "id": "2df27d7b-d2b6-4d87-90c3-6759a70fa8d7",
   "metadata": {
    "height": 389
   },
   "outputs": [],
   "source": [
    "def query_birthday_db(self, name: str): \n",
    "    \"\"\"\n",
    "    This tool queries an external database to \n",
    "    lookup the birthday of someone given their name.\n",
    "\n",
    "    Args: \n",
    "        name (str): The name to look up \n",
    "\n",
    "    Returns: \n",
    "        birthday (str): The birthday in mm-dd-yyyy format\n",
    "    \n",
    "    \"\"\"\n",
    "    my_fake_data = {\n",
    "        \"bob\": \"03-06-1997\", \n",
    "        \"sarah\": \"03-06-1997\"\n",
    "    } \n",
    "    name = name.lower() \n",
    "    if name not in my_fake_data: \n",
    "        return None\n",
    "    else: \n",
    "        return my_fake_data[name]"
   ]
  },
  {
   "cell_type": "code",
   "execution_count": 12,
   "id": "571e53e5-4190-4787-9cb2-efc527885c2d",
   "metadata": {
    "height": 49
   },
   "outputs": [],
   "source": [
    "birthday_tool = client.create_tool(query_birthday_db)"
   ]
  },
  {
   "cell_type": "code",
   "execution_count": 13,
   "id": "f44ebefc-ba31-4901-acf4-893ffe624fb5",
   "metadata": {
    "height": 30
   },
   "outputs": [
    {
     "data": {
      "text/plain": [
       "Tool(description=None, source_type='python', module=None, user_id='user-45fc4507-8a65-4d2b-b695-7b3676f10b68', id='tool-c831b521-f002-4c93-ac82-1a4b7067d2d1', name='query_birthday_db', tags=[], source_code='def query_birthday_db(self, name: str): \\n    \"\"\"\\n    This tool queries an external database to \\n    lookup the birthday of someone given their name.\\n\\n    Args: \\n        name (str): The name to look up \\n\\n    Returns: \\n        birthday (str): The birthday in mm-dd-yyyy format\\n\\n    \"\"\"\\n    my_fake_data = {\\n        \"bob\": \"03-06-1997\", \\n        \"sarah\": \"03-06-1997\"\\n    } \\n    name = name.lower() \\n    if name not in my_fake_data: \\n        return None\\n    else: \\n        return my_fake_data[name]\\n', json_schema={'name': 'query_birthday_db', 'description': 'This tool queries an external database to ', 'parameters': {'type': 'object', 'properties': {'name': {'type': 'string', 'description': 'The name to look up '}, 'request_heartbeat': {'type': 'boolean', 'description': \"Request an immediate heartbeat after function execution. Set to 'true' if you want to send a follow-up message or run a follow-up function.\"}}, 'required': ['name', 'request_heartbeat']}})"
      ]
     },
     "execution_count": 13,
     "metadata": {},
     "output_type": "execute_result"
    }
   ],
   "source": [
    "birthday_tool"
   ]
  },
  {
   "cell_type": "code",
   "execution_count": 14,
   "id": "cf4d7b41-e563-4785-867a-02bd6127ceea",
   "metadata": {
    "height": 219
   },
   "outputs": [],
   "source": [
    "from letta.schemas.memory import ChatMemory\n",
    "\n",
    "agent_state = client.create_agent(\n",
    "    name=\"birthday_agent\", \n",
    "    tools=[birthday_tool.name], \n",
    "    memory=ChatMemory(\n",
    "        human=\"My name is Sarah\", \n",
    "        persona=\"You are a agent with access to a birthday_db \" \\\n",
    "        + \"that you use to lookup information about users' birthdays.\"\n",
    "    )\n",
    ")"
   ]
  },
  {
   "cell_type": "code",
   "execution_count": 15,
   "id": "2534c3f7-55d9-4f5f-892c-82221ccd1b78",
   "metadata": {
    "height": 115
   },
   "outputs": [
    {
     "data": {
      "text/html": [
       "\n",
       "    <style>\n",
       "        .message-container {\n",
       "            font-family: 'Segoe UI', Tahoma, Geneva, Verdana, sans-serif;\n",
       "            max-width: 800px;\n",
       "            margin: 20px auto;\n",
       "            background-color: #1e1e1e;\n",
       "            border-radius: 8px;\n",
       "            overflow: hidden;\n",
       "            color: #d4d4d4;\n",
       "        }\n",
       "        .message {\n",
       "            padding: 10px 15px;\n",
       "            border-bottom: 1px solid #3a3a3a;\n",
       "        }\n",
       "        .message:last-child {\n",
       "            border-bottom: none;\n",
       "        }\n",
       "        .title {\n",
       "            font-weight: bold;\n",
       "            margin-bottom: 5px;\n",
       "            color: #ffffff;\n",
       "            text-transform: uppercase;\n",
       "            font-size: 0.9em;\n",
       "        }\n",
       "        .content {\n",
       "            background-color: #2d2d2d;\n",
       "            border-radius: 4px;\n",
       "            padding: 5px 10px;\n",
       "            font-family: 'Consolas', 'Courier New', monospace;\n",
       "            white-space: pre-wrap;\n",
       "        }\n",
       "        .status-line {\n",
       "            margin-bottom: 5px;\n",
       "            color: #d4d4d4;\n",
       "        }\n",
       "        .function-name { color: #569cd6; }\n",
       "        .json-key { color: #9cdcfe; }\n",
       "        .json-string { color: #ce9178; }\n",
       "        .json-number { color: #b5cea8; }\n",
       "        .json-boolean { color: #569cd6; }\n",
       "        .internal-monologue { font-style: italic; }\n",
       "    </style>\n",
       "    <div class=\"message-container\">\n",
       "    \n",
       "        <div class=\"message\">\n",
       "            <div class=\"title\">INTERNAL MONOLOGUE</div>\n",
       "            <div class=\"content\"><span class=\"internal-monologue\">Looking up Sarah&#x27;s birthday from the database. Let me just fetch that information.</span></div>\n",
       "        </div>\n",
       "        \n",
       "        <div class=\"message\">\n",
       "            <div class=\"title\">FUNCTION CALL</div>\n",
       "            <div class=\"content\"><span class=\"function-name\">query_birthday_db</span>({<br>&nbsp;&nbsp;<span class=\"json-key\">\"name\"</span>: <span class=\"json-key\">\"Sarah\",<br>&nbsp;&nbsp;\"request_heartbeat\"</span>: <span class=\"json-boolean\">true</span><br>})</div>\n",
       "        </div>\n",
       "        \n",
       "        <div class=\"message\">\n",
       "            <div class=\"title\">FUNCTION RETURN</div>\n",
       "            <div class=\"content\">{<br>&nbsp;&nbsp;<span class=\"json-key\">\"status\"</span>: <span class=\"json-key\">\"OK\",<br>&nbsp;&nbsp;\"message\"</span>: <span class=\"json-key\">\"03-06-1997\",<br>&nbsp;&nbsp;\"time\"</span>: <span class=\"json-string\">\"2024-11-08 07:37:05 AM UTC+0000\"</span><br>}</div>\n",
       "        </div>\n",
       "        \n",
       "        <div class=\"message\">\n",
       "            <div class=\"title\">INTERNAL MONOLOGUE</div>\n",
       "            <div class=\"content\"><span class=\"internal-monologue\">Sarah&#x27;s birthday is confirmed. Inform her and memorize this date for future interactions.</span></div>\n",
       "        </div>\n",
       "        \n",
       "        <div class=\"message\">\n",
       "            <div class=\"title\">FUNCTION CALL</div>\n",
       "            <div class=\"content\"><span class=\"function-name\">send_message</span>({<br>&nbsp;&nbsp;<span class=\"json-key\">\"message\"</span>: <span class=\"json-string\">\"Sarah, your birthday is on the 3rd of June, 1997. I've noted it down for future reference! 🎂\"</span><br>})</div>\n",
       "        </div>\n",
       "        </div>"
      ],
      "text/plain": [
       "<IPython.core.display.HTML object>"
      ]
     },
     "metadata": {},
     "output_type": "display_data"
    }
   ],
   "source": [
    "response = client.send_message(\n",
    "    agent_id=agent_state.id, \n",
    "    message = \"When is my birthday?\", \n",
    "    role = \"user\"\n",
    ") \n",
    "nb_print(response.messages)"
   ]
  },
  {
   "cell_type": "markdown",
   "id": "8bd8e2be-ba54-40e9-97ca-b23e832b5304",
   "metadata": {},
   "source": [
    "### Loading tools from Langchain"
   ]
  },
  {
   "cell_type": "code",
   "execution_count": 16,
   "id": "7cc0a070-d3e5-4832-90af-99d3544862e2",
   "metadata": {
    "height": 151
   },
   "outputs": [],
   "source": [
    "import getpass\n",
    "import os\n",
    "import getpass\n",
    "import os\n",
    "\n",
    "if not os.environ.get(\"TAVILY_API_KEY\"):\n",
    "    os.environ[\"TAVILY_API_KEY\"] = getpass.getpass(\"Tavily API key:\\n\")"
   ]
  },
  {
   "cell_type": "code",
   "execution_count": 17,
   "id": "356e2cb1-a89a-4e56-8bed-1aabfd92bb09",
   "metadata": {
    "height": 100
   },
   "outputs": [],
   "source": [
    "from langchain_community.tools import TavilySearchResults\n",
    "from letta.schemas.tool import Tool\n",
    "\n",
    "search = TavilySearchResults()"
   ]
  },
  {
   "cell_type": "code",
   "execution_count": 18,
   "id": "a6e64ee5-fc01-436c-839a-73e65fb162c9",
   "metadata": {
    "height": 30
   },
   "outputs": [
    {
     "data": {
      "text/plain": [
       "[{'url': 'https://people.com/barack-obama-reacts-malia-dropping-last-name-8737577',\n",
       "  'content': \"The former first daughter and budding filmmaker now goes by Malia Ann in her professional life, aiming to separate her work from her family's legacy Barack Obama is opening up about his daughter\"},\n",
       " {'url': 'https://www.bnd.com/living/liv-columns-blogs/answer-man/article162988863.html',\n",
       "  'content': 'Why President Barack Obamas dad changed his name | Belleville News-Democrat I am still curious about the name change from Barry Soetoro to Barack Obama. By his own account, he said he was trying to be different, trying to be “cool.” He said he also was trying to reinvent himself: “It was when I made a conscious decision: I want to grow up.” And, to his mind, Barack sounded much more grown-up than Barry. When he moved back to Hawaii to attend a private school four years later, he was still Barack Obama. About Us Contact Us Newsletters Archives Sports Betting Personal Finance McClatchy Advertising Place an Ad Place a Classified Ad Place an Ad - Celebrations Place an Obituary Staffing Solutions Political | Advocacy Advertising'},\n",
       " {'url': 'https://www.bbc.com/news/world-us-canada-13221643',\n",
       "  'content': 'Nothing but rubble: Ukraine\\'s shattered ghost town Avdiivka\\nSecret calls and code names: How money makes it to N Korea\\nCounting the destruction of religious sites in Gaza\\nLily Gladstone: The actress who could make Oscars history\\nGuardiola, Mourinho and the game that changed everything\\nWhy India wants to fence its troubled Myanmar border\\n\\'We\\'re the country of beef, but we can only afford chicken\\'\\nKenya\\'s visa-free dream proves tricky for some\\nElsewhere on the BBC\\nThe truth about burnout\\nWhy \\'living retro\\' is perfect for now\\nA 75km hike through \\'the Graveyard of the Pacific\\'\\nMost Read\\nBBC News Services\\n© 2024 BBC. \"The designation of Sr or Jr to distinguish between father and son with all the exact same names (first, middle, & last), can be replaced by the Roman numerals, I and II, respectively, when the grandson has the exact same names,\" explain Dr Dave and Dr Dee, who provide advice on health, medicine, relationships, families, etiquette, manners and fashion.\\n More on this story\\nObama releases birth certificate\\nTop Stories\\nAt least half of Gaza buildings damaged or destroyed, new analysis shows\\nBiden says he has decided US response to Jordan attack\\nJustice Department investigating Democrat Cori Bush\\nFeatures\\nWhat options does US have to respond to Jordan attack?\\n Barack Obama\\'s Kenyan father would have been perfectly comfortable with the idea of passing on his own name to his son - it is a practice common not only in the US, but in his own country too, and especially among the Luo tribe, to which he belonged.\\n \"\\nKenyan tradition\\nMiss Manners\\' Guide to Excruciatingly Correct Behavior, written by Judith Martin, takes the same line:\\n\"The oldest living William Wellborn is numberless, and one starts counting Junior, III, IV (or 3d, 4th, a form Miss Manners prefers), and so on from there.'},\n",
       " {'url': 'https://en.wikipedia.org/wiki/Early_life_and_career_of_Barack_Obama',\n",
       "  'content': \"He served on the board of directors of the Woods Fund of Chicago, which in 1985 had been the first foundation to fund Obama's DCP, from 1993 to 2002, and served on the board of directors of The Joyce Foundation from 1994 to 2002.[55] Membership on the Joyce and Wood foundation boards, which gave out tens of millions of dollars to various local organizations while Obama was a member, helped Obama get to know and be known by influential liberal groups and cultivate a network of community activists that later supported his political career.[69] Obama served on the board of directors of the Chicago Annenberg Challenge from 1995 to 2002, as founding president and chairman of the board of directors from 1995 to 1999.[55] They married on the Hawaiian island of Maui on February 2, 1961.[6]\\nBarack Hussein Obama II, born in Honolulu on August 4, 1961, at the old Kapiolani Maternity and Gynecological Hospital at 1611 Bingham Street (a predecessor of the Kapiʻolani Medical Center for Women and Children at 1319 Punahou Street), was named for his father.[4][7][8]\\nThe Honolulu Advertiser and the Honolulu Star-Bulletin announced the birth.[9]\\nSoon after their son's birth, while Obama's father continued his education at the University of Hawaii, Ann Dunham took the infant to Seattle, Washington, where she took classes at the University of Washington from September 1961 to June 1962. Two of these cases involved ACORN suing Governor Jim Edgar under the new Motor Voter Act,[78][79] one involved a voter suing Mayor Daley under the Voting Rights Act,[80] and one involved, in the only case Obama orally argued, a whistleblowing stockbroker suing his former employer.[81]\\nAll of these appeals were resolved in favor of Obama's clients, with all the opinions authored by Obama's University of Chicago colleague Chief Judge Richard Posner.[82]\\nObama was a founding member of the board of directors of Public Allies in 1992, resigning before his wife, Michelle, became the founding executive director of Public Allies Chicago in early 1993.[55][83] From sixth grade through eighth grade at Punahou, Obama lived with his mother and Maya.[35][36]\\nObama's mother completed her coursework at the University of Hawaii for an M.A. in anthropology in December 1974.[37] After three years in Hawaii, she and Maya returned to Jakarta in August 1975,[38] where Dunham completed her contract with the Institute of Management Education and Development and started anthropological fieldwork.[39]\\nObama chose to stay with his grandparents in Honolulu to continue his studies at Punahou School for his high school years.[8][40]\\n In the summer of 1981, Obama traveled to Jakarta to visit his mother and half-sister Maya, and visited the families of Occidental College friends in Hyderabad (India) and Karachi (Pakistan) for three weeks.[49]\\nHe then transferred to Columbia University in New York City, where he majored in political science with a speciality in international relations[50][51] and in English literature.[52] Obama lived off campus in a modest rented apartment at 142 West 109th Street.[53][54]\"},\n",
       " {'url': 'https://en.wikipedia.org/wiki/Presidency_of_Barack_Obama',\n",
       "  'content': '\"[71] Some liberals were disappointed that the law did not break up the country\\'s largest banks or reinstate the Glass-Steagall Act, while many conservatives criticized the bill as a government overreach that could make the country less competitive.[71] Under the bill, the Federal Reserve and other regulatory agencies were required to propose and implement several new regulatory rules, and battles over these rules continued throughout Obama\\'s presidency.[72] Obama called for further Wall Street reform after the passage of Dodd-Frank, saying that banks should have a smaller role in the economy and less incentive to make risky trades.[73] Obama also signed the Credit CARD Act of 2009, which created new rules for credit card companies.[74]\\nClimate change and the environment\\nDuring his presidency, Obama described global warming as the greatest long-term threat facing the world.[75] Obama took several steps to combat global warming, but was unable to pass a major bill addressing the issue, in part because many Republicans and some Democrats questioned whether global warming is occurring and whether human activity contributes to it.[76] Following his inauguration, Obama asked that Congress pass a bill to put a cap on domestic carbon emissions.[77] After the House passed the American Clean Energy and Security Act in 2009, Obama sought to convince the Senate to pass the bill as well.[78] In 2015, Obama signed the USA Freedom Act, which extended several provisions of the Patriot Act but ended the collection of bulk telephone records by the NSA.[431][437]\\nEthics\\nLobbying reform\\nEarly in his presidential campaign, Obama stated that lobbyists \"won\\'t find a job in my White House\", but softened his stance after taking office.[438] On January 21, 2009, Obama issued an executive order for all future appointees to his administration, which ordered that no appointee who was a registered lobbyist within the two years before his appointment could participate on matters in which he lobbied for a period of two years after the date of appointment.[15] Three formal waivers were initially issued in early 2009, out of 800 executive appointments:[439] The Citizens for Responsibility and Ethics in Washington criticized the administration, claiming that Obama retreated from his own ethics rules barring lobbyists from working on the issues about which they lobbied during the previous two years by issuing waivers.[440] A 2015 Politico investigation found that, while Obama had instituted incremental reforms and the number of lobbyists fell during Obama\\'s presidency, Obama had failed to close the \"revolving door\" of officials moving between government and business.[441] In the chaos of the Syrian Civil War, an Islamist group known as Islamic State of Iraq and the Levant (ISIL) took control of large portions of Syria and Iraq.[425] ISIL, which had originated as al-Qaeda in Iraq under the leadership of Abu Musab al-Zarqawi,[294] eventually challenged al-Qaeda as the most prominent global terrorist group during Obama\\'s second term.[426] Starting in 2014, the Obama administration launched air strikes against ISIL and trained anti-ISIL soldiers, while continuing to oppose Assad\\'s regime.[423][424] The Obama administration also cooperated with Syrian Kurds in opposing the ISIL, straining relations with Turkey, which accused the Syrian Kurds of working with the Kurdish terrorist groups inside Turkey.[427] Russia launched its own military intervention to aid Assad\\'s regime, creating a complicated multi-party proxy war, though the United States and Russia sometimes cooperated to fight ISIL.[428] The act increased regulation and reporting requirements on derivatives (particularly credit default swaps), and took steps to limit systemic risks to the US economy with policies such as higher capital requirements, the creation of the Orderly Liquidation Authority to help wind down large, failing financial institutions, and the creation of the Financial Stability Oversight Council to monitor systemic risks.[69] Dodd-Frank also established the Consumer Financial Protection Bureau, which was charged with protecting consumers against abusive financial practices.[70] On signing the bill, Obama stated that the bill would \"empower consumers and investors,\" \"bring the shadowy deals that caused the crisis to the light of day,\" and \"put a stop to taxpayer bailouts once and for all. In December 2009, the Senate passed its own health care reform bill, the Patient Protection and Affordable Care Act (PPACA or ACA), on a party-line, 60–39 vote.[48] Both bills expanded Medicaid and provided health care subsidies; they also established an individual mandate, health insurance exchanges, and a ban on denying coverage based on pre-existing conditions.[49] However, the House bill included a tax increase on families making more than $1 million per year and a public health insurance option, while the Senate plan included an excise tax on high-cost health plans.[49]\\nThe 2010 Massachusetts Senate special election victory of Scott Brown seriously imperiled the prospects of a health care reform bill, as Democrats lost their 60-seat Senate super-majority.[50][51] The White House and House Speaker Nancy Pelosi engaged in an extensive campaign to convince both centrists and liberals in the House to pass the Senate\\'s health care bill, the Patient Protection and Affordable Care Act.[52]'}]"
      ]
     },
     "execution_count": 18,
     "metadata": {},
     "output_type": "execute_result"
    }
   ],
   "source": [
    "search.run(\"What's Obama's first name?\") "
   ]
  },
  {
   "cell_type": "code",
   "execution_count": 19,
   "id": "228ba181-b0bf-4f04-bf94-1e520caeafc3",
   "metadata": {
    "height": 66
   },
   "outputs": [],
   "source": [
    "# convert the tool to Letta Tool \n",
    "search_tool = Tool.from_langchain(TavilySearchResults())"
   ]
  },
  {
   "cell_type": "code",
   "execution_count": 20,
   "id": "bdcc39c5-311d-446e-9562-fa88eb2a10d1",
   "metadata": {
    "height": 47
   },
   "outputs": [
    {
     "data": {
      "text/plain": [
       "Tool(description=None, source_type='python', module=None, user_id='user-45fc4507-8a65-4d2b-b695-7b3676f10b68', id='tool-b054dc15-ec93-43f6-a9f6-16493f622722', name='run_tavilysearchresults', tags=['langchain'], source_code=\"\\ndef run_tavilysearchresults(**kwargs):\\n    if 'self' in kwargs:\\n        del kwargs['self']\\n    from langchain_community.tools import TavilySearchResults\\n    tool = TavilySearchResults()\\n    return tool._run(**kwargs)\\n\", json_schema={'name': 'run_tavilysearchresults', 'description': 'A search engine optimized for comprehensive, accurate, and trusted results. Useful for when you need to answer questions about current events. Input should be a search query.', 'parameters': {'type': 'object', 'properties': {'query': {'type': 'string', 'description': 'search query to look up'}, 'request_heartbeat': {'type': 'boolean', 'description': \"Request an immediate heartbeat after function execution. Set to 'true' if you want to send a follow-up message or run a follow-up function.\"}}, 'required': ['query', 'request_heartbeat']}})"
      ]
     },
     "execution_count": 20,
     "metadata": {},
     "output_type": "execute_result"
    }
   ],
   "source": [
    "# persist the tool \n",
    "client.add_tool(search_tool)"
   ]
  },
  {
   "cell_type": "code",
   "execution_count": 21,
   "id": "c1d96101-c229-47d4-8179-8389cd10e6e8",
   "metadata": {
    "height": 338
   },
   "outputs": [],
   "source": [
    "research_agent_persona = f\"\"\"\n",
    "You have access to a web via a {search_tool.name} tool. \n",
    "Use this tool to respond to users' questions, by summarizing the\n",
    "{search_tool.name} \n",
    "and also providing the `url` that the information was from as a \n",
    "reference. \n",
    "\n",
    "<Example> \n",
    "User: 'What is Obama's first name?' \n",
    "Assistant: 'Obama's first name is Barack.\n",
    "\n",
    "Sources:\n",
    "[1] https://www.britannica.com/biography/Barack-Obama\n",
    "[2] https://en.wikipedia.org/wiki/List_of_presidents_of_the_United_States'\n",
    "</Example>\n",
    "Your MUST provide URLs that you used to generate the answer, or you will be terminated. \n",
    "\n",
    "\"\"\""
   ]
  },
  {
   "cell_type": "code",
   "execution_count": 22,
   "id": "f3219788-1cdc-4a85-af9f-b08005fabd28",
   "metadata": {
    "height": 149
   },
   "outputs": [],
   "source": [
    "agent_state = client.create_agent(\n",
    "    name=\"research_agent\", \n",
    "    tools=[search_tool.name], \n",
    "    memory=ChatMemory(\n",
    "        human=\"My name is Sarah\", \n",
    "        persona=research_agent_persona\n",
    "    )\n",
    ")"
   ]
  },
  {
   "cell_type": "code",
   "execution_count": 23,
   "id": "4e1dd11c-31a6-4d8e-b713-c6bab84ddea1",
   "metadata": {
    "height": 115
   },
   "outputs": [
    {
     "name": "stdout",
     "output_type": "stream",
     "text": [
      "Warning: function return was over limit (15546 > 3000) and was truncated\n"
     ]
    },
    {
     "data": {
      "text/html": [
       "\n",
       "    <style>\n",
       "        .message-container {\n",
       "            font-family: 'Segoe UI', Tahoma, Geneva, Verdana, sans-serif;\n",
       "            max-width: 800px;\n",
       "            margin: 20px auto;\n",
       "            background-color: #1e1e1e;\n",
       "            border-radius: 8px;\n",
       "            overflow: hidden;\n",
       "            color: #d4d4d4;\n",
       "        }\n",
       "        .message {\n",
       "            padding: 10px 15px;\n",
       "            border-bottom: 1px solid #3a3a3a;\n",
       "        }\n",
       "        .message:last-child {\n",
       "            border-bottom: none;\n",
       "        }\n",
       "        .title {\n",
       "            font-weight: bold;\n",
       "            margin-bottom: 5px;\n",
       "            color: #ffffff;\n",
       "            text-transform: uppercase;\n",
       "            font-size: 0.9em;\n",
       "        }\n",
       "        .content {\n",
       "            background-color: #2d2d2d;\n",
       "            border-radius: 4px;\n",
       "            padding: 5px 10px;\n",
       "            font-family: 'Consolas', 'Courier New', monospace;\n",
       "            white-space: pre-wrap;\n",
       "        }\n",
       "        .status-line {\n",
       "            margin-bottom: 5px;\n",
       "            color: #d4d4d4;\n",
       "        }\n",
       "        .function-name { color: #569cd6; }\n",
       "        .json-key { color: #9cdcfe; }\n",
       "        .json-string { color: #ce9178; }\n",
       "        .json-number { color: #b5cea8; }\n",
       "        .json-boolean { color: #569cd6; }\n",
       "        .internal-monologue { font-style: italic; }\n",
       "    </style>\n",
       "    <div class=\"message-container\">\n",
       "    \n",
       "        <div class=\"message\">\n",
       "            <div class=\"title\">FUNCTION CALL</div>\n",
       "            <div class=\"content\"><span class=\"function-name\">run_tavilysearchresults</span>({<br>&nbsp;&nbsp;<span class=\"json-key\">\"query\"</span>: <span class=\"json-key\">\"Who founded OpenAI?\",<br>&nbsp;&nbsp;\"request_heartbeat\"</span>: <span class=\"json-boolean\">true</span><br>})</div>\n",
       "        </div>\n",
       "        \n",
       "        <div class=\"message\">\n",
       "            <div class=\"title\">FUNCTION RETURN</div>\n",
       "            <div class=\"content\">{<br>&nbsp;&nbsp;<span class=\"json-key\">\"status\"</span>: <span class=\"json-key\">\"OK\",<br>&nbsp;&nbsp;\"message\"</span>: <span class=\"json-key\">\"([{'url': 'https://www.techopedia.com/who-owns-openai', 'content': 'OpenAI is a private company co-founded by tech visionaries in 2015, aiming to develop artificial general intelligence for the benefit of humanity. It transitioned to a capped-profit entity in 2019, receiving a $1 billion investment from Microsoft, and faced a lawsuit by Elon Musk in 2024.'}, {'url': 'https://fortune.com/longform/chatgpt-openai-sam-altman-microsoft/', 'content': 'The inside story of ChatGPT: How OpenAI founder Sam Altman built the world’s hottest technology with billions from Microsoft\\\\nA few times in a generation, a product comes along that catapults a technology from the fluorescent gloom of engineering department basements, the fetid teenage bedrooms of nerds, and the lonely man caves of hobbyists—into something that your great-aunt Edna knows how to use. The amount of safety work we are doing keeps increasing.”\\\\n“The amount of safety work we are doing keeps increasing.”\\\\nCritics, however, say OpenAI’s product-oriented approach to advanced A.I. is irresponsible, the equivalent of giving people loaded guns on the grounds that it is the best way to determine if they will actually shoot one another.\\\\n According to documents seen by Fortune, on completion of its new investment and after OpenAI’s first investors earn back their initial capital, Microsoft will be entitled to 75% of OpenAI’s profits until it earns back the $13\\\\xa0billion it has invested—a figure that includes an earlier $2\\\\xa0billion investment in OpenAI that had not been previously disclosed until Fortune reported it in January. , McCauley is a supporter of Effective Altruism, the philosophical movement that has as one of its preoccupations the dangers of superintelligent A.I.\\\\nAdam D’AngeloAn early Facebook executive—he was chief technology officer during some of its boom years in the late 2000s—D’Angelo went on to cofound the online question-answering service Quora.\\\\n He left the board in 2018, saying at one point that he faced conflicts of interest as Tesla began developing its own advanced A.I.\\\\nVenture capital muscle\\\\nIn 2021, OpenAI sold existing shares of the business in a tender\\\\xa0offer that valued the startup at about $14\\\\xa0billion—and brought three heavy-hitting VC firms into its orbit.'}, {'url': 'https://hai.stanford.edu/people/ilya-sutskever', 'content': 'Ilya Sutskever is a leading researcher in artificial intelligence and the co-founder and chief scientist of OpenAI. He has contributed to the development of AlexNet, GPT models and other breakthroughs in deep learning.'}, {'url': 'https://www.britannica.com/biography/Sam-Altman', 'content': 'In 2019 Altman compared the work of OpenAI to the Manhattan Project, which developed the first atomic bomb, telling The New York Times that the Manhattan Project had been “on the scale of OpenAI—the level of ambition we aspire to.” At the heart of the founding of OpenAI was the recognition of the power of artificial intelligence and the question o... [NOTE: function output was truncated since it exceeded the character limit (15546 &gt; 3000)]\",<br>&nbsp;&nbsp;\"time\"</span>: <span class=\"json-string\">\"2024-11-08 07:37:17 AM UTC+0000\"</span><br>}</div>\n",
       "        </div>\n",
       "        \n",
       "        <div class=\"message\">\n",
       "            <div class=\"title\">INTERNAL MONOLOGUE</div>\n",
       "            <div class=\"content\"><span class=\"internal-monologue\">Alright, OpenAI was co-founded by several tech visionaries in 2015. According to the resources I found, OpenAI was co-founded by respected figures such as Sam Altman, who is currently the lead and Ilya Sutskever, a leading researcher in artificial intelligence.\n",
       "\n",
       "Sources:\n",
       "1. [Techopedia: Who owns OpenAI?](https://www.techopedia.com/who-owns-openai)\n",
       "2. [Inside story of ChatGPT and Sam Altman](https://fortune.com/longform/chatgpt-openai-sam-altman-microsoft/)\n",
       "3. [Profile of Ilya Sutskever](https://hai.stanford.edu/people/ilya-sutskever)\n",
       "4. [Britannica&#x27;s profile on Sam Altman](https://www.britannica.com/biography/Sam-Altman) \n",
       "\n",
       "Is there anything else you&#x27;d like to know about OpenAI?</span></div>\n",
       "        </div>\n",
       "        \n",
       "        <div class=\"message\">\n",
       "            <div class=\"title\">FUNCTION CALL</div>\n",
       "            <div class=\"content\"><span class=\"function-name\">send_message</span>({<br>&nbsp;&nbsp;<span class=\"json-key\">\"message\"</span>: <span class=\"json-string\">\"OpenAI was co-founded by several tech visionaries in 2015, including Sam Altman and Ilya Sutskever.\\n\\nSources:\\n1. [Techopedia: Who owns OpenAI?](https://www.techopedia.com/who-owns-openai)\\n2. [Inside story of ChatGPT and Sam Altman](https://fortune.com/longform/chatgpt-openai-sam-altman-microsoft/)\\n3. [Profile of Ilya Sutskever](https://hai.stanford.edu/people/ilya-sutskever)\\n4. [Britannica's profile on Sam Altman](https://www.britannica.com/biography/Sam-Altman)\\n\\nIs there anything else you'd like to know about OpenAI?\"</span><br>})</div>\n",
       "        </div>\n",
       "        </div>"
      ],
      "text/plain": [
       "<IPython.core.display.HTML object>"
      ]
     },
     "metadata": {},
     "output_type": "display_data"
    }
   ],
   "source": [
    "response = client.send_message(\n",
    "    agent_id=agent_state.id, \n",
    "    message = \"Who founded OpenAI? \", \n",
    "    role = \"user\"\n",
    ") \n",
    "nb_print(response.messages)"
   ]
  },
  {
   "cell_type": "code",
   "execution_count": 24,
   "id": "abce960f-aaad-459c-82fc-c0c0e50543c1",
   "metadata": {
    "height": 236
   },
   "outputs": [],
   "source": [
    "from letta.schemas.llm_config import LLMConfig\n",
    "\n",
    "agent_state = client.create_agent(\n",
    "    name=\"gpt4_search_agent\", \n",
    "    tools=[search_tool.name], \n",
    "    memory=ChatMemory(\n",
    "        human=\"My name is Sarah\", \n",
    "        persona=research_agent_persona\n",
    "    ),\n",
    "    #llm_config=LLMConfig.default_config('gpt-4')  # uncomment if you are not getting desired results. Note that this is much more expensive than gpt-4o-mini\n",
    "    llm_config=LLMConfig.default_config('gpt-4o-mini')\n",
    ")"
   ]
  },
  {
   "cell_type": "code",
   "execution_count": 25,
   "id": "93f066b8-77dc-4fcf-8c2c-f280338d8e75",
   "metadata": {
    "height": 115
   },
   "outputs": [
    {
     "name": "stdout",
     "output_type": "stream",
     "text": [
      "Warning: function return was over limit (13058 > 3000) and was truncated\n"
     ]
    },
    {
     "data": {
      "text/html": [
       "\n",
       "    <style>\n",
       "        .message-container {\n",
       "            font-family: 'Segoe UI', Tahoma, Geneva, Verdana, sans-serif;\n",
       "            max-width: 800px;\n",
       "            margin: 20px auto;\n",
       "            background-color: #1e1e1e;\n",
       "            border-radius: 8px;\n",
       "            overflow: hidden;\n",
       "            color: #d4d4d4;\n",
       "        }\n",
       "        .message {\n",
       "            padding: 10px 15px;\n",
       "            border-bottom: 1px solid #3a3a3a;\n",
       "        }\n",
       "        .message:last-child {\n",
       "            border-bottom: none;\n",
       "        }\n",
       "        .title {\n",
       "            font-weight: bold;\n",
       "            margin-bottom: 5px;\n",
       "            color: #ffffff;\n",
       "            text-transform: uppercase;\n",
       "            font-size: 0.9em;\n",
       "        }\n",
       "        .content {\n",
       "            background-color: #2d2d2d;\n",
       "            border-radius: 4px;\n",
       "            padding: 5px 10px;\n",
       "            font-family: 'Consolas', 'Courier New', monospace;\n",
       "            white-space: pre-wrap;\n",
       "        }\n",
       "        .status-line {\n",
       "            margin-bottom: 5px;\n",
       "            color: #d4d4d4;\n",
       "        }\n",
       "        .function-name { color: #569cd6; }\n",
       "        .json-key { color: #9cdcfe; }\n",
       "        .json-string { color: #ce9178; }\n",
       "        .json-number { color: #b5cea8; }\n",
       "        .json-boolean { color: #569cd6; }\n",
       "        .internal-monologue { font-style: italic; }\n",
       "    </style>\n",
       "    <div class=\"message-container\">\n",
       "    \n",
       "        <div class=\"message\">\n",
       "            <div class=\"title\">INTERNAL MONOLOGUE</div>\n",
       "            <div class=\"content\"><span class=\"internal-monologue\">User asks about OpenAI&#x27;s founders. I need to find accurate sources.</span></div>\n",
       "        </div>\n",
       "        \n",
       "        <div class=\"message\">\n",
       "            <div class=\"title\">FUNCTION CALL</div>\n",
       "            <div class=\"content\"><span class=\"function-name\">run_tavilysearchresults</span>({<br>&nbsp;&nbsp;<span class=\"json-key\">\"query\"</span>: <span class=\"json-key\">\"Who founded OpenAI?\",<br>&nbsp;&nbsp;\"request_heartbeat\"</span>: <span class=\"json-boolean\">true</span><br>})</div>\n",
       "        </div>\n",
       "        \n",
       "        <div class=\"message\">\n",
       "            <div class=\"title\">FUNCTION RETURN</div>\n",
       "            <div class=\"content\">{<br>&nbsp;&nbsp;<span class=\"json-key\">\"status\"</span>: <span class=\"json-key\">\"OK\",<br>&nbsp;&nbsp;\"message\"</span>: <span class=\"json-key\">\"([{'url': 'https://www.techopedia.com/who-owns-openai', 'content': 'OpenAI, co-founded by industry stalwarts in 2015, was envisioned as a beacon of ethical AI development. Who created ChatGPT? 6 prominent tech visionaries from Silicon Valley. Transitioning into a for-profit entity in 2019, OpenAI struck a strategic alliance with Microsoft, bolstering its research and outreach.'}, {'url': 'https://hai.stanford.edu/people/ilya-sutskever', 'content': 'Ilya Sutskever is Co-founder and Chief Scientist of OpenAI, which aims to build artificial general intelligence that benefits all of humanity. He leads research at OpenAI and is one of the architects behind the GPT models. Prior to OpenAI, Ilya was co-inventor of AlexNet and Sequence to Sequence Learning. He earned his Ph.D in Computer Science from the University of Toronto.'}, {'url': 'https://fortune.com/longform/chatgpt-openai-sam-altman-microsoft/', 'content': 'The inside story of ChatGPT: How OpenAI founder Sam Altman built the world’s hottest technology with billions from Microsoft\\\\nA few times in a generation, a product comes along that catapults a technology from the fluorescent gloom of engineering department basements, the fetid teenage bedrooms of nerds, and the lonely man caves of hobbyists—into something that your great-aunt Edna knows how to use. The amount of safety work we are doing keeps increasing.”\\\\n“The amount of safety work we are doing keeps increasing.”\\\\nCritics, however, say OpenAI’s product-oriented approach to advanced A.I. is irresponsible, the equivalent of giving people loaded guns on the grounds that it is the best way to determine if they will actually shoot one another.\\\\n According to documents seen by Fortune, on completion of its new investment and after OpenAI’s first investors earn back their initial capital, Microsoft will be entitled to 75% of OpenAI’s profits until it earns back the $13\\\\xa0billion it has invested—a figure that includes an earlier $2\\\\xa0billion investment in OpenAI that had not been previously disclosed until Fortune reported it in January. , McCauley is a supporter of Effective Altruism, the philosophical movement that has as one of its preoccupations the dangers of superintelligent A.I.\\\\nAdam D’AngeloAn early Facebook executive—he was chief technology officer during some of its boom years in the late 2000s—D’Angelo went on to cofound the online question-answering service Quora.\\\\n He left the board in 2018, saying at one point that he faced conflicts of interest as Tesla began developing its own advanced A.I.\\\\nVenture capital muscle\\\\nIn 2021, OpenAI sold existing shares of the business in a tender\\\\xa0offer that valued the startup at about $14\\\\xa0billion—and brought three heavy-hitting VC firms into its orbit.'}, {'url': 'https://www.britannica.com/biography/Sam-Altman', 'content': 'In 2019 Altman compared the work of OpenAI to the Manhattan Project, which developed the first atomic bomb, telling The New York Times that the Manhattan Project had be... [NOTE: function output was truncated since it exceeded the character limit (13058 &gt; 3000)]\",<br>&nbsp;&nbsp;\"time\"</span>: <span class=\"json-string\">\"2024-11-08 07:37:36 AM UTC+0000\"</span><br>}</div>\n",
       "        </div>\n",
       "        \n",
       "        <div class=\"message\">\n",
       "            <div class=\"title\">INTERNAL MONOLOGUE</div>\n",
       "            <div class=\"content\"><span class=\"internal-monologue\">User&#x27;s question about OpenAI&#x27;s founders has been answered. Now, I&#x27;ll provide references.</span></div>\n",
       "        </div>\n",
       "        \n",
       "        <div class=\"message\">\n",
       "            <div class=\"title\">FUNCTION CALL</div>\n",
       "            <div class=\"content\"><span class=\"function-name\">send_message</span>({<br>&nbsp;&nbsp;<span class=\"json-key\">\"message\"</span>: <span class=\"json-string\">\"OpenAI was co-founded in December 2015 by several notable individuals, including Elon Musk, Sam Altman, Greg Brockman, Ilya Sutskever, Wojciech Zaremba, and John Schulman. The organization was established to promote and develop friendly AI for the benefit of humanity.\"</span><br>})</div>\n",
       "        </div>\n",
       "        </div>"
      ],
      "text/plain": [
       "<IPython.core.display.HTML object>"
      ]
     },
     "metadata": {},
     "output_type": "display_data"
    }
   ],
   "source": [
    "response = client.send_message(\n",
    "    agent_id=agent_state.id, \n",
    "    message = \"Who founded OpenAI? \", \n",
    "    role = \"user\"\n",
    ") \n",
    "nb_print(response.messages)"
   ]
  },
  {
   "cell_type": "code",
   "execution_count": null,
   "id": "ea45a1b3-1eef-4bc0-8f3f-1db7405e5149",
   "metadata": {
    "height": 30
   },
   "outputs": [],
   "source": []
  },
  {
   "cell_type": "code",
   "execution_count": null,
   "id": "dde40389-ec30-4d7d-8e7c-54a70f82644a",
   "metadata": {
    "height": 30
   },
   "outputs": [],
   "source": []
  }
 ],
 "metadata": {
  "kernelspec": {
   "display_name": "Python 3 (ipykernel)",
   "language": "python",
   "name": "python3"
  },
  "language_info": {
   "codemirror_mode": {
    "name": "ipython",
    "version": 3
   },
   "file_extension": ".py",
   "mimetype": "text/x-python",
   "name": "python",
   "nbconvert_exporter": "python",
   "pygments_lexer": "ipython3",
   "version": "3.11.5"
  }
 },
 "nbformat": 4,
 "nbformat_minor": 5
}
